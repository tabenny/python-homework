{
 "cells": [
  {
   "cell_type": "code",
   "execution_count": 1,
   "id": "metric-assist",
   "metadata": {},
   "outputs": [
    {
     "name": "stdout",
     "output_type": "stream",
     "text": [
      "/Users/bennyantony/Desktop/homework/python-homework/PyRank\n",
      "Resources/budget_data.csv\n",
      "['Date', 'Profit/Losses']\n",
      "86\n",
      "38382578\n"
     ]
    }
   ],
   "source": [
    "# -*- coding: UTF-8 -*-\n",
    "\n",
    "\n",
    "# @TODO: Import libraries\n",
    "import csv\n",
    "from pathlib import Path\n",
    "\n",
    "\n",
    "#check the current path\n",
    "print(Path.cwd())\n",
    "budget_data_file_path = Path('Resources/budget_data.csv')\n",
    "\n",
    "print(budget_data_file_path)\n",
    "\n",
    "#variable to store the total months\n",
    "total_months=0\n",
    "\n",
    "#variable to store\n",
    "net_total=0\n",
    "\n",
    "with open(budget_data_file_path) as csv_file:\n",
    "    csv_reader = csv.reader(csv_file, delimiter=',')\n",
    "    \n",
    "    # now first row is header, so skip that\n",
    "    header = next(csv_reader)\n",
    "\n",
    "    print(header)\n",
    "    \n",
    "    for current_row in csv_reader:\n",
    "        #increase the count of months\n",
    "        total_months+=1\n",
    "        #add the current amount to the total\n",
    "        net_total+=int(current_row[1])\n",
    "        #print(current_row[0])\n",
    "        #print(current_row[1])\n",
    "        \n",
    "        \n",
    "\n",
    "print(total_months)\n",
    "print(net_total)\n",
    "\n"
   ]
  },
  {
   "cell_type": "code",
   "execution_count": null,
   "id": "compressed-preliminary",
   "metadata": {},
   "outputs": [],
   "source": []
  }
 ],
 "metadata": {
  "kernelspec": {
   "display_name": "Python 3",
   "language": "python",
   "name": "python3"
  },
  "language_info": {
   "codemirror_mode": {
    "name": "ipython",
    "version": 3
   },
   "file_extension": ".py",
   "mimetype": "text/x-python",
   "name": "python",
   "nbconvert_exporter": "python",
   "pygments_lexer": "ipython3",
   "version": "3.8.5"
  }
 },
 "nbformat": 4,
 "nbformat_minor": 5
}
